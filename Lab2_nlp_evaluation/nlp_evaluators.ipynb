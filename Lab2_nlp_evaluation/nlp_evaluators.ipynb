{
 "cells": [
  {
   "cell_type": "markdown",
   "metadata": {},
   "source": [
    "# Evaluate with quantitative NLP evaluators\n",
    "\n",
    "## Objective\n",
    "This notebook demonstrates how to use NLP-based evaluators to assess the quality of generated text by comparing it to reference text. By the end of this tutorial, you'll be able to:\n",
    " - Understand different NLP evaluators such as `BleuScoreEvaluator`, `GleuScoreEvaluator`, `MeteorScoreEvaluator`, and `RougeScoreEvaluator`.\n",
    " - Evaluate dataset using these evaluators.\n",
    "\n",
    "## Time\n",
    "You should expect to spend about 10 minutes running this notebook.\n",
    "\n",
    "## Before you begin\n",
    "\n",
    "### Installation\n",
    "Install the following packages required to execute this notebook."
   ]
  },
  {
   "cell_type": "code",
   "execution_count": 1,
   "metadata": {
    "gather": {
     "logged": 1733832648838
    }
   },
   "outputs": [
    {
     "name": "stdout",
     "output_type": "stream",
     "text": [
      "Requirement already satisfied: azure-ai-evaluation in /opt/conda/lib/python3.12/site-packages (1.12.0)\n",
      "Requirement already satisfied: pyjwt>=2.8.0 in /opt/conda/lib/python3.12/site-packages (from azure-ai-evaluation) (2.8.0)\n",
      "Requirement already satisfied: azure-identity>=1.16.0 in /opt/conda/lib/python3.12/site-packages (from azure-ai-evaluation) (1.25.1)\n",
      "Requirement already satisfied: azure-core>=1.30.2 in /opt/conda/lib/python3.12/site-packages (from azure-ai-evaluation) (1.36.0)\n",
      "Requirement already satisfied: nltk>=3.9.1 in /opt/conda/lib/python3.12/site-packages (from azure-ai-evaluation) (3.9.1)\n",
      "Requirement already satisfied: azure-storage-blob>=12.10.0 in /opt/conda/lib/python3.12/site-packages (from azure-ai-evaluation) (12.27.0)\n",
      "Requirement already satisfied: httpx>=0.25.1 in /opt/conda/lib/python3.12/site-packages (from azure-ai-evaluation) (0.28.1)\n",
      "Requirement already satisfied: pandas<3.0.0,>=2.1.2 in /opt/conda/lib/python3.12/site-packages (from azure-ai-evaluation) (2.2.2)\n",
      "Requirement already satisfied: openai>=1.108.0 in /opt/conda/lib/python3.12/site-packages (from azure-ai-evaluation) (2.5.0)\n",
      "Requirement already satisfied: ruamel.yaml<1.0.0,>=0.17.10 in /opt/conda/lib/python3.12/site-packages (from azure-ai-evaluation) (0.18.6)\n",
      "Requirement already satisfied: msrest>=0.6.21 in /opt/conda/lib/python3.12/site-packages (from azure-ai-evaluation) (0.7.1)\n",
      "Requirement already satisfied: Jinja2>=3.1.6 in /opt/conda/lib/python3.12/site-packages (from azure-ai-evaluation) (3.1.6)\n",
      "Requirement already satisfied: aiohttp>=3.0 in /opt/conda/lib/python3.12/site-packages (from azure-ai-evaluation) (3.12.15)\n",
      "Requirement already satisfied: aiohappyeyeballs>=2.5.0 in /opt/conda/lib/python3.12/site-packages (from aiohttp>=3.0->azure-ai-evaluation) (2.6.1)\n",
      "Requirement already satisfied: aiosignal>=1.4.0 in /opt/conda/lib/python3.12/site-packages (from aiohttp>=3.0->azure-ai-evaluation) (1.4.0)\n",
      "Requirement already satisfied: attrs>=17.3.0 in /opt/conda/lib/python3.12/site-packages (from aiohttp>=3.0->azure-ai-evaluation) (23.1.0)\n",
      "Requirement already satisfied: frozenlist>=1.1.1 in /opt/conda/lib/python3.12/site-packages (from aiohttp>=3.0->azure-ai-evaluation) (1.4.0)\n",
      "Requirement already satisfied: multidict<7.0,>=4.5 in /opt/conda/lib/python3.12/site-packages (from aiohttp>=3.0->azure-ai-evaluation) (6.0.4)\n",
      "Requirement already satisfied: propcache>=0.2.0 in /opt/conda/lib/python3.12/site-packages (from aiohttp>=3.0->azure-ai-evaluation) (0.3.1)\n",
      "Requirement already satisfied: yarl<2.0,>=1.17.0 in /opt/conda/lib/python3.12/site-packages (from aiohttp>=3.0->azure-ai-evaluation) (1.18.0)\n",
      "Requirement already satisfied: requests>=2.21.0 in /opt/conda/lib/python3.12/site-packages (from azure-core>=1.30.2->azure-ai-evaluation) (2.32.5)\n",
      "Requirement already satisfied: typing-extensions>=4.6.0 in /opt/conda/lib/python3.12/site-packages (from azure-core>=1.30.2->azure-ai-evaluation) (4.15.0)\n",
      "Requirement already satisfied: cryptography>=2.5 in /opt/conda/lib/python3.12/site-packages (from azure-identity>=1.16.0->azure-ai-evaluation) (44.0.1)\n",
      "Requirement already satisfied: msal>=1.30.0 in /opt/conda/lib/python3.12/site-packages (from azure-identity>=1.16.0->azure-ai-evaluation) (1.34.0)\n",
      "Requirement already satisfied: msal-extensions>=1.2.0 in /opt/conda/lib/python3.12/site-packages (from azure-identity>=1.16.0->azure-ai-evaluation) (1.3.1)\n",
      "Requirement already satisfied: isodate>=0.6.1 in /opt/conda/lib/python3.12/site-packages (from azure-storage-blob>=12.10.0->azure-ai-evaluation) (0.7.2)\n",
      "Requirement already satisfied: anyio in /opt/conda/lib/python3.12/site-packages (from httpx>=0.25.1->azure-ai-evaluation) (4.11.0)\n",
      "Requirement already satisfied: certifi in /opt/conda/lib/python3.12/site-packages (from httpx>=0.25.1->azure-ai-evaluation) (2025.10.5)\n",
      "Requirement already satisfied: httpcore==1.* in /opt/conda/lib/python3.12/site-packages (from httpx>=0.25.1->azure-ai-evaluation) (1.0.9)\n",
      "Requirement already satisfied: idna in /opt/conda/lib/python3.12/site-packages (from httpx>=0.25.1->azure-ai-evaluation) (3.7)\n",
      "Requirement already satisfied: h11>=0.16 in /opt/conda/lib/python3.12/site-packages (from httpcore==1.*->httpx>=0.25.1->azure-ai-evaluation) (0.16.0)\n",
      "Requirement already satisfied: MarkupSafe>=2.0 in /opt/conda/lib/python3.12/site-packages (from Jinja2>=3.1.6->azure-ai-evaluation) (2.1.3)\n",
      "Requirement already satisfied: requests-oauthlib>=0.5.0 in /opt/conda/lib/python3.12/site-packages (from msrest>=0.6.21->azure-ai-evaluation) (2.0.0)\n",
      "Requirement already satisfied: click in /opt/conda/lib/python3.12/site-packages (from nltk>=3.9.1->azure-ai-evaluation) (8.1.7)\n",
      "Requirement already satisfied: joblib in /opt/conda/lib/python3.12/site-packages (from nltk>=3.9.1->azure-ai-evaluation) (1.4.2)\n",
      "Requirement already satisfied: regex>=2021.8.3 in /opt/conda/lib/python3.12/site-packages (from nltk>=3.9.1->azure-ai-evaluation) (2024.9.11)\n",
      "Requirement already satisfied: tqdm in /opt/conda/lib/python3.12/site-packages (from nltk>=3.9.1->azure-ai-evaluation) (4.66.5)\n",
      "Requirement already satisfied: distro<2,>=1.7.0 in /opt/conda/lib/python3.12/site-packages (from openai>=1.108.0->azure-ai-evaluation) (1.9.0)\n",
      "Requirement already satisfied: jiter<1,>=0.10.0 in /opt/conda/lib/python3.12/site-packages (from openai>=1.108.0->azure-ai-evaluation) (0.11.1)\n",
      "Requirement already satisfied: pydantic<3,>=1.9.0 in /opt/conda/lib/python3.12/site-packages (from openai>=1.108.0->azure-ai-evaluation) (2.12.3)\n",
      "Requirement already satisfied: sniffio in /opt/conda/lib/python3.12/site-packages (from openai>=1.108.0->azure-ai-evaluation) (1.3.0)\n",
      "Requirement already satisfied: numpy>=1.26.0 in /opt/conda/lib/python3.12/site-packages (from pandas<3.0.0,>=2.1.2->azure-ai-evaluation) (1.26.4)\n",
      "Requirement already satisfied: python-dateutil>=2.8.2 in /opt/conda/lib/python3.12/site-packages (from pandas<3.0.0,>=2.1.2->azure-ai-evaluation) (2.9.0.post0)\n",
      "Requirement already satisfied: pytz>=2020.1 in /opt/conda/lib/python3.12/site-packages (from pandas<3.0.0,>=2.1.2->azure-ai-evaluation) (2024.1)\n",
      "Requirement already satisfied: tzdata>=2022.7 in /opt/conda/lib/python3.12/site-packages (from pandas<3.0.0,>=2.1.2->azure-ai-evaluation) (2023.3)\n",
      "Requirement already satisfied: ruamel.yaml.clib>=0.2.7 in /opt/conda/lib/python3.12/site-packages (from ruamel.yaml<1.0.0,>=0.17.10->azure-ai-evaluation) (0.2.8)\n",
      "Requirement already satisfied: cffi>=1.12 in /opt/conda/lib/python3.12/site-packages (from cryptography>=2.5->azure-identity>=1.16.0->azure-ai-evaluation) (1.17.1)\n",
      "Requirement already satisfied: annotated-types>=0.6.0 in /opt/conda/lib/python3.12/site-packages (from pydantic<3,>=1.9.0->openai>=1.108.0->azure-ai-evaluation) (0.6.0)\n",
      "Requirement already satisfied: pydantic-core==2.41.4 in /opt/conda/lib/python3.12/site-packages (from pydantic<3,>=1.9.0->openai>=1.108.0->azure-ai-evaluation) (2.41.4)\n",
      "Requirement already satisfied: typing-inspection>=0.4.2 in /opt/conda/lib/python3.12/site-packages (from pydantic<3,>=1.9.0->openai>=1.108.0->azure-ai-evaluation) (0.4.2)\n",
      "Requirement already satisfied: six>=1.5 in /opt/conda/lib/python3.12/site-packages (from python-dateutil>=2.8.2->pandas<3.0.0,>=2.1.2->azure-ai-evaluation) (1.16.0)\n",
      "Requirement already satisfied: charset_normalizer<4,>=2 in /opt/conda/lib/python3.12/site-packages (from requests>=2.21.0->azure-core>=1.30.2->azure-ai-evaluation) (3.3.2)\n",
      "Requirement already satisfied: urllib3<3,>=1.21.1 in /opt/conda/lib/python3.12/site-packages (from requests>=2.21.0->azure-core>=1.30.2->azure-ai-evaluation) (2.5.0)\n",
      "Requirement already satisfied: numpy>=1.26.0 in /opt/conda/lib/python3.12/site-packages (from pandas<3.0.0,>=2.1.2->azure-ai-evaluation) (1.26.4)\n",
      "Requirement already satisfied: python-dateutil>=2.8.2 in /opt/conda/lib/python3.12/site-packages (from pandas<3.0.0,>=2.1.2->azure-ai-evaluation) (2.9.0.post0)\n",
      "Requirement already satisfied: pytz>=2020.1 in /opt/conda/lib/python3.12/site-packages (from pandas<3.0.0,>=2.1.2->azure-ai-evaluation) (2024.1)\n",
      "Requirement already satisfied: tzdata>=2022.7 in /opt/conda/lib/python3.12/site-packages (from pandas<3.0.0,>=2.1.2->azure-ai-evaluation) (2023.3)\n",
      "Requirement already satisfied: ruamel.yaml.clib>=0.2.7 in /opt/conda/lib/python3.12/site-packages (from ruamel.yaml<1.0.0,>=0.17.10->azure-ai-evaluation) (0.2.8)\n",
      "Requirement already satisfied: cffi>=1.12 in /opt/conda/lib/python3.12/site-packages (from cryptography>=2.5->azure-identity>=1.16.0->azure-ai-evaluation) (1.17.1)\n",
      "Requirement already satisfied: annotated-types>=0.6.0 in /opt/conda/lib/python3.12/site-packages (from pydantic<3,>=1.9.0->openai>=1.108.0->azure-ai-evaluation) (0.6.0)\n",
      "Requirement already satisfied: pydantic-core==2.41.4 in /opt/conda/lib/python3.12/site-packages (from pydantic<3,>=1.9.0->openai>=1.108.0->azure-ai-evaluation) (2.41.4)\n",
      "Requirement already satisfied: typing-inspection>=0.4.2 in /opt/conda/lib/python3.12/site-packages (from pydantic<3,>=1.9.0->openai>=1.108.0->azure-ai-evaluation) (0.4.2)\n",
      "Requirement already satisfied: six>=1.5 in /opt/conda/lib/python3.12/site-packages (from python-dateutil>=2.8.2->pandas<3.0.0,>=2.1.2->azure-ai-evaluation) (1.16.0)\n",
      "Requirement already satisfied: charset_normalizer<4,>=2 in /opt/conda/lib/python3.12/site-packages (from requests>=2.21.0->azure-core>=1.30.2->azure-ai-evaluation) (3.3.2)\n",
      "Requirement already satisfied: urllib3<3,>=1.21.1 in /opt/conda/lib/python3.12/site-packages (from requests>=2.21.0->azure-core>=1.30.2->azure-ai-evaluation) (2.5.0)\n",
      "Requirement already satisfied: oauthlib>=3.0.0 in /opt/conda/lib/python3.12/site-packages (from requests-oauthlib>=0.5.0->msrest>=0.6.21->azure-ai-evaluation) (3.3.1)\n",
      "Requirement already satisfied: pycparser in /opt/conda/lib/python3.12/site-packages (from cffi>=1.12->cryptography>=2.5->azure-identity>=1.16.0->azure-ai-evaluation) (2.21)\n",
      "Requirement already satisfied: oauthlib>=3.0.0 in /opt/conda/lib/python3.12/site-packages (from requests-oauthlib>=0.5.0->msrest>=0.6.21->azure-ai-evaluation) (3.3.1)\n",
      "Requirement already satisfied: pycparser in /opt/conda/lib/python3.12/site-packages (from cffi>=1.12->cryptography>=2.5->azure-identity>=1.16.0->azure-ai-evaluation) (2.21)\n",
      "Note: you may need to restart the kernel to use updated packages.\n",
      "Note: you may need to restart the kernel to use updated packages.\n"
     ]
    }
   ],
   "source": [
    "# Install the packages\n",
    "%pip install azure-ai-evaluation"
   ]
  },
  {
   "cell_type": "code",
   "execution_count": 2,
   "metadata": {
    "gather": {
     "logged": 1733832651097
    },
    "jupyter": {
     "outputs_hidden": false,
     "source_hidden": false
    },
    "nteract": {
     "transient": {
      "deleting": false
     }
    }
   },
   "outputs": [
    {
     "data": {
      "text/plain": [
       "True"
      ]
     },
     "execution_count": 2,
     "metadata": {},
     "output_type": "execute_result"
    }
   ],
   "source": [
    "import os\n",
    "from pprint import pprint\n",
    "from dotenv import load_dotenv\n",
    "load_dotenv(\"../.credentials.env\")"
   ]
  },
  {
   "cell_type": "markdown",
   "metadata": {},
   "source": [
    "## NLP Evaluators"
   ]
  },
  {
   "cell_type": "markdown",
   "metadata": {},
   "source": [
    "### BleuScoreEvaluator\n",
    "\n",
    "BLEU (Bilingual Evaluation Understudy) score is commonly used in natural language processing (NLP) and machine\n",
    "translation. It is widely used in text summarization and text generation use cases. It evaluates how closely the\n",
    "generated text matches the reference text. The BLEU score ranges from 0 to 1, with higher scores indicating\n",
    "better quality."
   ]
  },
  {
   "cell_type": "code",
   "execution_count": 3,
   "metadata": {
    "gather": {
     "logged": 1733832657177
    }
   },
   "outputs": [],
   "source": [
    "from azure.ai.evaluation import BleuScoreEvaluator\n",
    "\n",
    "bleu = BleuScoreEvaluator()"
   ]
  },
  {
   "cell_type": "code",
   "execution_count": 4,
   "metadata": {
    "gather": {
     "logged": 1733832659756
    }
   },
   "outputs": [
    {
     "name": "stdout",
     "output_type": "stream",
     "text": [
      "{'bleu_score': 0.22961813530951883, 'bleu_result': 'fail', 'bleu_threshold': 0.5}\n"
     ]
    }
   ],
   "source": [
    "result = bleu(response=\"London is the capital of England.\", ground_truth=\"The capital of England is London.\")\n",
    "\n",
    "print(result)"
   ]
  },
  {
   "cell_type": "markdown",
   "metadata": {},
   "source": [
    "### GleuScoreEvaluator\n",
    "\n",
    "The GLEU (Google-BLEU) score evaluator measures the similarity between generated and reference texts by\n",
    "evaluating n-gram overlap, considering both precision and recall. This balanced evaluation, designed for\n",
    "sentence-level assessment, makes it ideal for detailed analysis of translation quality. GLEU is well-suited for\n",
    "use cases such as machine translation, text summarization, and text generation."
   ]
  },
  {
   "cell_type": "code",
   "execution_count": 5,
   "metadata": {
    "gather": {
     "logged": 1733832671954
    }
   },
   "outputs": [],
   "source": [
    "from azure.ai.evaluation import GleuScoreEvaluator\n",
    "\n",
    "gleu = GleuScoreEvaluator()"
   ]
  },
  {
   "cell_type": "code",
   "execution_count": 6,
   "metadata": {
    "gather": {
     "logged": 1733832673153
    }
   },
   "outputs": [
    {
     "name": "stdout",
     "output_type": "stream",
     "text": [
      "{'gleu_score': 0.4090909090909091, 'gleu_result': 'fail', 'gleu_threshold': 0.5}\n"
     ]
    }
   ],
   "source": [
    "result = gleu(response=\"London is the capital of England.\", ground_truth=\"The capital of England is London.\")\n",
    "\n",
    "print(result)"
   ]
  },
  {
   "cell_type": "markdown",
   "metadata": {},
   "source": [
    "### MeteorScoreEvaluator\n",
    "\n",
    "The METEOR (Metric for Evaluation of Translation with Explicit Ordering) score grader evaluates generated text by\n",
    "comparing it to reference texts, focusing on precision, recall, and content alignment. It addresses limitations of\n",
    "other metrics like BLEU by considering synonyms, stemming, and paraphrasing. METEOR score considers synonyms and\n",
    "word stems to more accurately capture meaning and language variations. In addition to machine translation and\n",
    "text summarization, paraphrase detection is an optimal use case for the METEOR score."
   ]
  },
  {
   "cell_type": "code",
   "execution_count": 7,
   "metadata": {
    "gather": {
     "logged": 1733832676855
    }
   },
   "outputs": [],
   "source": [
    "from azure.ai.evaluation import MeteorScoreEvaluator\n",
    "\n",
    "meteor = MeteorScoreEvaluator(alpha=0.9, beta=3.0, gamma=0.5)"
   ]
  },
  {
   "cell_type": "code",
   "execution_count": 8,
   "metadata": {
    "gather": {
     "logged": 1733832678928
    }
   },
   "outputs": [
    {
     "name": "stdout",
     "output_type": "stream",
     "text": [
      "{'meteor_score': 0.9067055393586005, 'meteor_result': 'pass', 'meteor_threshold': 0.5}\n"
     ]
    }
   ],
   "source": [
    "result = meteor(response=\"London is the capital of England.\", ground_truth=\"The capital of England is London.\")\n",
    "\n",
    "print(result)"
   ]
  },
  {
   "cell_type": "markdown",
   "metadata": {},
   "source": [
    "### RougeScoreEvaluator\n",
    "\n",
    "ROUGE (Recall-Oriented Understudy for Gisting Evaluation) is a set of metrics used to evaluate automatic\n",
    "summarization and machine translation. It measures the overlap between generated text and reference summaries.\n",
    "ROUGE focuses on recall-oriented measures to assess how well the generated text covers the reference text. Text\n",
    "summarization and document comparison are among optimal use cases for ROUGE, particularly in scenarios where text\n",
    "coherence and relevance are critical.\n"
   ]
  },
  {
   "cell_type": "code",
   "execution_count": 9,
   "metadata": {
    "gather": {
     "logged": 1733832695388
    }
   },
   "outputs": [],
   "source": [
    "from azure.ai.evaluation import RougeScoreEvaluator, RougeType\n",
    "\n",
    "rouge = RougeScoreEvaluator(rouge_type=RougeType.ROUGE_1)"
   ]
  },
  {
   "cell_type": "code",
   "execution_count": 10,
   "metadata": {
    "gather": {
     "logged": 1733832715092
    }
   },
   "outputs": [
    {
     "name": "stdout",
     "output_type": "stream",
     "text": [
      "{'rouge_precision': 1.0, 'rouge_recall': 1.0, 'rouge_f1_score': 1.0, 'rouge_precision_result': 'pass', 'rouge_recall_result': 'pass', 'rouge_f1_score_result': 'pass', 'rouge_precision_threshold': 0.5, 'rouge_recall_threshold': 0.5, 'rouge_f1_score_threshold': 0.5}\n"
     ]
    }
   ],
   "source": [
    "result = rouge(response=\"London is the capital of England.\", ground_truth=\"The capital of England is London.\")\n",
    "\n",
    "print(result)"
   ]
  },
  {
   "cell_type": "markdown",
   "metadata": {},
   "source": [
    "## Evaluate a Dataset using NLP Evaluators\n",
    "\n",
    "The code below evaluates the dataset using BLEU, GLEU, METEOR, and ROUGE evaluators. Results are computed locally and then uploaded to Azure ML using MLflow with Azure AD authentication."
   ]
  },
  {
   "cell_type": "code",
   "execution_count": 20,
   "metadata": {},
   "outputs": [
    {
     "name": "stdout",
     "output_type": "stream",
     "text": [
      "2025-10-20 16:05:34 +0000 139989675398848 execution.bulk     INFO     Finished 3 / 3 lines.\n",
      "2025-10-20 16:05:34 +0000 139989675398848 execution.bulk     INFO     Average execution time for completed lines: 0.0 seconds. Estimated time for incomplete lines: 0.0 seconds.\n",
      "2025-10-20 16:05:34 +0000 139989675398848 execution.bulk     INFO     Average execution time for completed lines: 0.0 seconds. Estimated time for incomplete lines: 0.0 seconds.\n",
      "2025-10-20 16:05:34 +0000 139989692184256 execution.bulk     INFO     Finished 3 / 3 lines.\n",
      "2025-10-20 16:05:34 +0000 139989692184256 execution.bulk     INFO     Finished 3 / 3 lines.\n",
      "2025-10-20 16:05:34 +0000 139989692184256 execution.bulk     INFO     Average execution time for completed lines: 0.04 seconds. Estimated time for incomplete lines: 0.0 seconds.\n",
      "2025-10-20 16:05:34 +0000 139990109497024 execution.bulk     INFO     Finished 3 / 3 lines.\n",
      "2025-10-20 16:05:34 +0000 139990109497024 execution.bulk     INFO     Average execution time for completed lines: 0.05 seconds. Estimated time for incomplete lines: 0.0 seconds.\n",
      "2025-10-20 16:05:34 +0000 139989692184256 execution.bulk     INFO     Average execution time for completed lines: 0.04 seconds. Estimated time for incomplete lines: 0.0 seconds.\n",
      "2025-10-20 16:05:34 +0000 139990109497024 execution.bulk     INFO     Finished 3 / 3 lines.\n",
      "2025-10-20 16:05:34 +0000 139990109497024 execution.bulk     INFO     Average execution time for completed lines: 0.05 seconds. Estimated time for incomplete lines: 0.0 seconds.\n",
      "======= Run Summary =======\n",
      "\n",
      "Run name: \"bleu_20251020_160534_055051\"\n",
      "Run status: \"Completed\"\n",
      "Start time: \"2025-10-20 16:05:34.055051+00:00\"\n",
      "Duration: \"0:00:01.005341\"\n",
      "\n",
      "======= Run Summary =======\n",
      "\n",
      "Run name: \"rouge_20251020_160534_056391\"\n",
      "Run status: \"Completed\"\n",
      "Start time: \"2025-10-20 16:05:34.056391+00:00\"\n",
      "Duration: \"0:00:01.005115\"\n",
      "\n",
      "======= Run Summary =======\n",
      "\n",
      "Run name: \"gleu_20251020_160534_052115\"\n",
      "Run status: \"Completed\"\n",
      "Start time: \"2025-10-20 16:05:34.052115+00:00\"\n",
      "Duration: \"0:00:01.009556\"\n",
      "\n",
      "======= Run Summary =======\n",
      "\n",
      "Run name: \"bleu_20251020_160534_055051\"\n",
      "Run status: \"Completed\"\n",
      "Start time: \"2025-10-20 16:05:34.055051+00:00\"\n",
      "Duration: \"0:00:01.005341\"\n",
      "\n",
      "======= Run Summary =======\n",
      "\n",
      "Run name: \"rouge_20251020_160534_056391\"\n",
      "Run status: \"Completed\"\n",
      "Start time: \"2025-10-20 16:05:34.056391+00:00\"\n",
      "Duration: \"0:00:01.005115\"\n",
      "\n",
      "======= Run Summary =======\n",
      "\n",
      "Run name: \"gleu_20251020_160534_052115\"\n",
      "Run status: \"Completed\"\n",
      "Start time: \"2025-10-20 16:05:34.052115+00:00\"\n",
      "Duration: \"0:00:01.009556\"\n",
      "\n"
     ]
    },
    {
     "name": "stderr",
     "output_type": "stream",
     "text": [
      "Aggregated metrics for evaluator is not a dictionary will not be logged as metrics\n",
      "Aggregated metrics for evaluator is not a dictionary will not be logged as metrics\n",
      "Aggregated metrics for evaluator is not a dictionary will not be logged as metrics\n"
     ]
    },
    {
     "name": "stdout",
     "output_type": "stream",
     "text": [
      "2025-10-20 16:05:37 +0000 139989683791552 execution.bulk     INFO     Finished 3 / 3 lines.\n",
      "2025-10-20 16:05:37 +0000 139989683791552 execution.bulk     INFO     Average execution time for completed lines: 1.1 seconds. Estimated time for incomplete lines: 0.0 seconds.\n",
      "2025-10-20 16:05:37 +0000 139989683791552 execution.bulk     INFO     Average execution time for completed lines: 1.1 seconds. Estimated time for incomplete lines: 0.0 seconds.\n"
     ]
    },
    {
     "name": "stderr",
     "output_type": "stream",
     "text": [
      "Aggregated metrics for evaluator is not a dictionary will not be logged as metrics\n",
      "Aggregated metrics for evaluator is not a dictionary will not be logged as metrics\n",
      "Aggregated metrics for evaluator is not a dictionary will not be logged as metrics\n"
     ]
    },
    {
     "name": "stdout",
     "output_type": "stream",
     "text": [
      "======= Run Summary =======\n",
      "\n",
      "Run name: \"meteor_20251020_160534_049455\"\n",
      "Run status: \"Completed\"\n",
      "Start time: \"2025-10-20 16:05:34.049455+00:00\"\n",
      "Duration: \"0:00:03.304629\"\n",
      "\n",
      "======= Combined Run Summary (Per Evaluator) =======\n",
      "\n",
      "{\n",
      "    \"bleu\": {\n",
      "        \"status\": \"Completed\",\n",
      "        \"duration\": \"0:00:01.005341\",\n",
      "        \"completed_lines\": 3,\n",
      "        \"failed_lines\": 0,\n",
      "        \"log_path\": null\n",
      "    },\n",
      "    \"gleu\": {\n",
      "        \"status\": \"Completed\",\n",
      "        \"duration\": \"0:00:01.009556\",\n",
      "        \"completed_lines\": 3,\n",
      "        \"failed_lines\": 0,\n",
      "        \"log_path\": null\n",
      "    },\n",
      "    \"meteor\": {\n",
      "        \"status\": \"Completed\",\n",
      "        \"duration\": \"0:00:03.304629\",\n",
      "        \"completed_lines\": 3,\n",
      "        \"failed_lines\": 0,\n",
      "        \"log_path\": null\n",
      "    },\n",
      "    \"rouge\": {\n",
      "        \"status\": \"Completed\",\n",
      "        \"duration\": \"0:00:01.005115\",\n",
      "        \"completed_lines\": 3,\n",
      "        \"failed_lines\": 0,\n",
      "        \"log_path\": null\n",
      "    }\n",
      "}\n",
      "\n",
      "====================================================\n",
      "\n"
     ]
    }
   ],
   "source": [
    "from azure.ai.evaluation import evaluate\n",
    "from azure.identity import DefaultAzureCredential\n",
    "import random\n",
    "\n",
    "# Use the same credential\n",
    "credential = DefaultAzureCredential()\n",
    "\n",
    "randomNum = random.randint(1111, 9999)\n",
    "result = evaluate(\n",
    "    data=\"nlp_data.jsonl\",\n",
    "    evaluation_name=\"NLP-demo-\" + str(randomNum),\n",
    "    evaluators={\n",
    "        \"bleu\": bleu,\n",
    "        \"gleu\": gleu,\n",
    "        \"meteor\": meteor,\n",
    "        \"rouge\": rouge,\n",
    "    },\n",
    "    # Optionally provide your AI Studio project information to track your evaluation results in your Azure AI Studio project\n",
    "    # azure_ai_project = {\n",
    "    #     \"subscription_id\": os.environ.get(\"AZURE_SUBSCRIPTION_ID\"),\n",
    "    #     \"resource_group_name\": os.environ.get(\"AZURE_RESOURCE_GROUP\"),\n",
    "    #     \"project_name\": os.environ.get(\"AZURE_PROJECT_NAME\"),\n",
    "    # },\n",
    "    # Add credential for storage access\n",
    "    credential=credential\n",
    ")"
   ]
  },
  {
   "cell_type": "markdown",
   "metadata": {},
   "source": [
    "### View Evaluation Results\n",
    "\n",
    "The evaluation ran successfully in local mode. Let's examine the results:"
   ]
  },
  {
   "cell_type": "code",
   "execution_count": 21,
   "metadata": {},
   "outputs": [
    {
     "name": "stdout",
     "output_type": "stream",
     "text": [
      "=== Aggregated Metrics ===\n",
      "bleu.bleu_score: 0.2762\n",
      "bleu.bleu_threshold: 0.5000\n",
      "gleu.gleu_score: 0.3484\n",
      "gleu.gleu_threshold: 0.5000\n",
      "meteor.meteor_score: 0.7350\n",
      "meteor.meteor_threshold: 0.5000\n",
      "rouge.rouge_precision: 0.6667\n",
      "rouge.rouge_recall: 0.5321\n",
      "rouge.rouge_f1_score: 0.5914\n",
      "rouge.rouge_precision_threshold: 0.5000\n",
      "rouge.rouge_recall_threshold: 0.5000\n",
      "rouge.rouge_f1_score_threshold: 0.5000\n",
      "bleu.binary_aggregate: 0.0000\n",
      "gleu.binary_aggregate: 0.0000\n",
      "meteor.binary_aggregate: 1.0000\n",
      "rouge.binary_aggregate: 0.6700\n",
      "\n",
      "=== Sample Row-Level Results ===\n",
      "                inputs.response              inputs.ground_truth  \\\n",
      "0      The cat sits on the mat.     A cat is sitting on the mat.   \n",
      "1     She enjoys reading books.         She loves to read books.   \n",
      "2  He quickly ran to the store.  He ran to the store in a hurry.   \n",
      "\n",
      "   outputs.bleu.bleu_score outputs.bleu.bleu_result  \\\n",
      "0                 0.376850                     fail   \n",
      "1                 0.109826                     fail   \n",
      "2                 0.341918                     fail   \n",
      "\n",
      "   outputs.bleu.bleu_threshold  outputs.gleu.gleu_score  \\\n",
      "0                          0.5                 0.423077   \n",
      "1                          0.5                 0.222222   \n",
      "2                          0.5                 0.400000   \n",
      "\n",
      "  outputs.gleu.gleu_result  outputs.gleu.gleu_threshold  \\\n",
      "0                     fail                          0.5   \n",
      "1                     fail                          0.5   \n",
      "2                     fail                          0.5   \n",
      "\n",
      "   outputs.meteor.meteor_score outputs.meteor.meteor_result  \\\n",
      "0                     0.745429                         pass   \n",
      "1                     0.820339                         pass   \n",
      "2                     0.639205                         pass   \n",
      "\n",
      "   outputs.meteor.meteor_threshold  outputs.rouge.rouge_precision  \\\n",
      "0                              0.5                       0.666667   \n",
      "1                              0.5                       0.500000   \n",
      "2                              0.5                       0.833333   \n",
      "\n",
      "   outputs.rouge.rouge_recall  outputs.rouge.rouge_f1_score  \\\n",
      "0                    0.571429                      0.615385   \n",
      "1                    0.400000                      0.444444   \n",
      "2                    0.625000                      0.714286   \n",
      "\n",
      "  outputs.rouge.rouge_precision_result outputs.rouge.rouge_recall_result  \\\n",
      "0                                 pass                              pass   \n",
      "1                                 pass                              fail   \n",
      "2                                 pass                              pass   \n",
      "\n",
      "  outputs.rouge.rouge_f1_score_result  \\\n",
      "0                                pass   \n",
      "1                                fail   \n",
      "2                                pass   \n",
      "\n",
      "   outputs.rouge.rouge_precision_threshold  \\\n",
      "0                                      0.5   \n",
      "1                                      0.5   \n",
      "2                                      0.5   \n",
      "\n",
      "   outputs.rouge.rouge_recall_threshold  \\\n",
      "0                                   0.5   \n",
      "1                                   0.5   \n",
      "2                                   0.5   \n",
      "\n",
      "   outputs.rouge.rouge_f1_score_threshold  \n",
      "0                                     0.5  \n",
      "1                                     0.5  \n",
      "2                                     0.5  \n"
     ]
    }
   ],
   "source": [
    "import pandas as pd\n",
    "\n",
    "# Display the aggregated metrics\n",
    "print(\"=== Aggregated Metrics ===\")\n",
    "for metric_name, metric_value in result[\"metrics\"].items():\n",
    "    print(f\"{metric_name}: {metric_value:.4f}\")\n",
    "\n",
    "# Display a sample of the detailed row-level results\n",
    "print(\"\\n=== Sample Row-Level Results ===\")\n",
    "results_df = pd.DataFrame(result[\"rows\"])\n",
    "print(results_df.head())"
   ]
  },
  {
   "cell_type": "markdown",
   "metadata": {},
   "source": [
    "## Upload Results to Azure ML with MLflow\n",
    "\n",
    "This section configures MLflow to use Azure AD authentication and uploads the evaluation results to Azure ML Studio for tracking and visualization."
   ]
  },
  {
   "cell_type": "code",
   "execution_count": null,
   "metadata": {},
   "outputs": [
    {
     "name": "stdout",
     "output_type": "stream",
     "text": [
      "Requirement already satisfied: mlflow in /opt/conda/lib/python3.12/site-packages (3.5.0)\n",
      "Requirement already satisfied: azureml-mlflow in /opt/conda/lib/python3.12/site-packages (1.60.0)\n",
      "Requirement already satisfied: mlflow-skinny==3.5.0 in /opt/conda/lib/python3.12/site-packages (from mlflow) (3.5.0)\n",
      "Requirement already satisfied: mlflow-tracing==3.5.0 in /opt/conda/lib/python3.12/site-packages (from mlflow) (3.5.0)\n",
      "Requirement already satisfied: Flask-CORS<7 in /opt/conda/lib/python3.12/site-packages (from mlflow) (6.0.1)\n",
      "Requirement already satisfied: Flask<4 in /opt/conda/lib/python3.12/site-packages (from mlflow) (3.0.3)\n",
      "Requirement already satisfied: alembic!=1.10.0,<2 in /opt/conda/lib/python3.12/site-packages (from mlflow) (1.17.0)\n",
      "Requirement already satisfied: cryptography<47,>=43.0.0 in /opt/conda/lib/python3.12/site-packages (from mlflow) (44.0.1)\n",
      "Requirement already satisfied: docker<8,>=4.0.0 in /opt/conda/lib/python3.12/site-packages (from mlflow) (7.1.0)\n",
      "Requirement already satisfied: fastmcp<3,>=2.0.0 in /opt/conda/lib/python3.12/site-packages (from mlflow) (2.12.5)\n",
      "Requirement already satisfied: graphene<4 in /opt/conda/lib/python3.12/site-packages (from mlflow) (3.4.3)\n",
      "Requirement already satisfied: gunicorn<24 in /opt/conda/lib/python3.12/site-packages (from mlflow) (23.0.0)\n",
      "Requirement already satisfied: matplotlib<4 in /opt/conda/lib/python3.12/site-packages (from mlflow) (3.9.2)\n",
      "Requirement already satisfied: numpy<3 in /opt/conda/lib/python3.12/site-packages (from mlflow) (1.26.4)\n",
      "Requirement already satisfied: pandas<3 in /opt/conda/lib/python3.12/site-packages (from mlflow) (2.2.2)\n",
      "Requirement already satisfied: pyarrow<22,>=4.0.0 in /opt/conda/lib/python3.12/site-packages (from mlflow) (16.1.0)\n",
      "Requirement already satisfied: scikit-learn<2 in /opt/conda/lib/python3.12/site-packages (from mlflow) (1.5.1)\n",
      "Requirement already satisfied: scipy<2 in /opt/conda/lib/python3.12/site-packages (from mlflow) (1.13.1)\n",
      "Requirement already satisfied: sqlalchemy<3,>=1.4.0 in /opt/conda/lib/python3.12/site-packages (from mlflow) (2.0.34)\n",
      "Requirement already satisfied: cachetools<7,>=5.0.0 in /opt/conda/lib/python3.12/site-packages (from mlflow-skinny==3.5.0->mlflow) (5.3.3)\n",
      "Requirement already satisfied: click<9,>=7.0 in /opt/conda/lib/python3.12/site-packages (from mlflow-skinny==3.5.0->mlflow) (8.1.7)\n",
      "Requirement already satisfied: cloudpickle<4 in /opt/conda/lib/python3.12/site-packages (from mlflow-skinny==3.5.0->mlflow) (3.0.0)\n",
      "Requirement already satisfied: databricks-sdk<1,>=0.20.0 in /opt/conda/lib/python3.12/site-packages (from mlflow-skinny==3.5.0->mlflow) (0.69.0)\n",
      "Requirement already satisfied: fastapi<1 in /opt/conda/lib/python3.12/site-packages (from mlflow-skinny==3.5.0->mlflow) (0.119.0)\n",
      "Requirement already satisfied: gitpython<4,>=3.1.9 in /opt/conda/lib/python3.12/site-packages (from mlflow-skinny==3.5.0->mlflow) (3.1.43)\n",
      "Requirement already satisfied: importlib_metadata!=4.7.0,<9,>=3.7.0 in /opt/conda/lib/python3.12/site-packages (from mlflow-skinny==3.5.0->mlflow) (7.0.1)\n",
      "Requirement already satisfied: opentelemetry-api<3,>=1.9.0 in /opt/conda/lib/python3.12/site-packages (from mlflow-skinny==3.5.0->mlflow) (1.38.0)\n",
      "Requirement already satisfied: opentelemetry-proto<3,>=1.9.0 in /opt/conda/lib/python3.12/site-packages (from mlflow-skinny==3.5.0->mlflow) (1.38.0)\n",
      "Requirement already satisfied: opentelemetry-sdk<3,>=1.9.0 in /opt/conda/lib/python3.12/site-packages (from mlflow-skinny==3.5.0->mlflow) (1.38.0)\n",
      "Requirement already satisfied: packaging<26 in /opt/conda/lib/python3.12/site-packages (from mlflow-skinny==3.5.0->mlflow) (24.1)\n",
      "Requirement already satisfied: protobuf<7,>=3.12.0 in /opt/conda/lib/python3.12/site-packages (from mlflow-skinny==3.5.0->mlflow) (5.29.5)\n",
      "Requirement already satisfied: pydantic<3,>=1.10.8 in /opt/conda/lib/python3.12/site-packages (from mlflow-skinny==3.5.0->mlflow) (2.12.3)\n",
      "Requirement already satisfied: python-dotenv<2,>=0.19.0 in /opt/conda/lib/python3.12/site-packages (from mlflow-skinny==3.5.0->mlflow) (1.1.1)\n",
      "Requirement already satisfied: pyyaml<7,>=5.1 in /opt/conda/lib/python3.12/site-packages (from mlflow-skinny==3.5.0->mlflow) (6.0.1)\n",
      "Requirement already satisfied: requests<3,>=2.17.3 in /opt/conda/lib/python3.12/site-packages (from mlflow-skinny==3.5.0->mlflow) (2.32.5)\n",
      "Requirement already satisfied: sqlparse<1,>=0.4.0 in /opt/conda/lib/python3.12/site-packages (from mlflow-skinny==3.5.0->mlflow) (0.5.3)\n",
      "Requirement already satisfied: typing-extensions<5,>=4.0.0 in /opt/conda/lib/python3.12/site-packages (from mlflow-skinny==3.5.0->mlflow) (4.15.0)\n",
      "Requirement already satisfied: uvicorn<1 in /opt/conda/lib/python3.12/site-packages (from mlflow-skinny==3.5.0->mlflow) (0.38.0)\n",
      "Requirement already satisfied: jsonpickle in /opt/conda/lib/python3.12/site-packages (from azureml-mlflow) (4.1.1)\n",
      "Requirement already satisfied: azure-identity in /opt/conda/lib/python3.12/site-packages (from azureml-mlflow) (1.25.1)\n",
      "Requirement already satisfied: msrest>=0.6.18 in /opt/conda/lib/python3.12/site-packages (from azureml-mlflow) (0.7.1)\n",
      "Requirement already satisfied: azure-core!=1.22.0,<2.0.0,>=1.8.0 in /opt/conda/lib/python3.12/site-packages (from azureml-mlflow) (1.36.0)\n",
      "Requirement already satisfied: azure-mgmt-core<2.0.0,>=1.2.0 in /opt/conda/lib/python3.12/site-packages (from azureml-mlflow) (1.6.0)\n",
      "Collecting azure-storage-blob<=12.19.0,>=12.5.0 (from azureml-mlflow)\n",
      "  Using cached azure_storage_blob-12.19.0-py3-none-any.whl.metadata (26 kB)\n",
      "Requirement already satisfied: azure-common<2.0.0,>=1.1 in /opt/conda/lib/python3.12/site-packages (from azureml-mlflow) (1.1.28)\n",
      "Requirement already satisfied: python-dateutil<3.0.0,>=2.7.3 in /opt/conda/lib/python3.12/site-packages (from azureml-mlflow) (2.9.0.post0)\n",
      "Requirement already satisfied: pytz in /opt/conda/lib/python3.12/site-packages (from azureml-mlflow) (2024.1)\n",
      "Requirement already satisfied: Mako in /opt/conda/lib/python3.12/site-packages (from alembic!=1.10.0,<2->mlflow) (1.3.10)\n",
      "Requirement already satisfied: isodate>=0.6.1 in /opt/conda/lib/python3.12/site-packages (from azure-storage-blob<=12.19.0,>=12.5.0->azureml-mlflow) (0.7.2)\n",
      "Requirement already satisfied: cffi>=1.12 in /opt/conda/lib/python3.12/site-packages (from cryptography<47,>=43.0.0->mlflow) (1.17.1)\n",
      "Requirement already satisfied: urllib3>=1.26.0 in /opt/conda/lib/python3.12/site-packages (from docker<8,>=4.0.0->mlflow) (2.5.0)\n",
      "Collecting azure-storage-blob<=12.19.0,>=12.5.0 (from azureml-mlflow)\n",
      "  Using cached azure_storage_blob-12.19.0-py3-none-any.whl.metadata (26 kB)\n",
      "Requirement already satisfied: azure-common<2.0.0,>=1.1 in /opt/conda/lib/python3.12/site-packages (from azureml-mlflow) (1.1.28)\n",
      "Requirement already satisfied: python-dateutil<3.0.0,>=2.7.3 in /opt/conda/lib/python3.12/site-packages (from azureml-mlflow) (2.9.0.post0)\n",
      "Requirement already satisfied: pytz in /opt/conda/lib/python3.12/site-packages (from azureml-mlflow) (2024.1)\n",
      "Requirement already satisfied: Mako in /opt/conda/lib/python3.12/site-packages (from alembic!=1.10.0,<2->mlflow) (1.3.10)\n",
      "Requirement already satisfied: isodate>=0.6.1 in /opt/conda/lib/python3.12/site-packages (from azure-storage-blob<=12.19.0,>=12.5.0->azureml-mlflow) (0.7.2)\n",
      "Requirement already satisfied: cffi>=1.12 in /opt/conda/lib/python3.12/site-packages (from cryptography<47,>=43.0.0->mlflow) (1.17.1)\n",
      "Requirement already satisfied: urllib3>=1.26.0 in /opt/conda/lib/python3.12/site-packages (from docker<8,>=4.0.0->mlflow) (2.5.0)\n",
      "Requirement already satisfied: authlib>=1.5.2 in /opt/conda/lib/python3.12/site-packages (from fastmcp<3,>=2.0.0->mlflow) (1.6.5)\n",
      "Requirement already satisfied: cyclopts>=3.0.0 in /opt/conda/lib/python3.12/site-packages (from fastmcp<3,>=2.0.0->mlflow) (3.24.0)\n",
      "Requirement already satisfied: exceptiongroup>=1.2.2 in /opt/conda/lib/python3.12/site-packages (from fastmcp<3,>=2.0.0->mlflow) (1.3.0)\n",
      "Requirement already satisfied: httpx>=0.28.1 in /opt/conda/lib/python3.12/site-packages (from fastmcp<3,>=2.0.0->mlflow) (0.28.1)\n",
      "Requirement already satisfied: mcp<1.17.0,>=1.12.4 in /opt/conda/lib/python3.12/site-packages (from fastmcp<3,>=2.0.0->mlflow) (1.16.0)\n",
      "Requirement already satisfied: openapi-core>=0.19.5 in /opt/conda/lib/python3.12/site-packages (from fastmcp<3,>=2.0.0->mlflow) (0.19.5)\n",
      "Requirement already satisfied: openapi-pydantic>=0.5.1 in /opt/conda/lib/python3.12/site-packages (from fastmcp<3,>=2.0.0->mlflow) (0.5.1)\n",
      "Requirement already satisfied: pyperclip>=1.9.0 in /opt/conda/lib/python3.12/site-packages (from fastmcp<3,>=2.0.0->mlflow) (1.11.0)\n",
      "Requirement already satisfied: rich>=13.9.4 in /opt/conda/lib/python3.12/site-packages (from fastmcp<3,>=2.0.0->mlflow) (14.2.0)\n",
      "Requirement already satisfied: Werkzeug>=3.0.0 in /opt/conda/lib/python3.12/site-packages (from Flask<4->mlflow) (3.1.1)\n",
      "Requirement already satisfied: Jinja2>=3.1.2 in /opt/conda/lib/python3.12/site-packages (from Flask<4->mlflow) (3.1.6)\n",
      "Requirement already satisfied: itsdangerous>=2.1.2 in /opt/conda/lib/python3.12/site-packages (from Flask<4->mlflow) (2.2.0)\n",
      "Requirement already satisfied: blinker>=1.6.2 in /opt/conda/lib/python3.12/site-packages (from Flask<4->mlflow) (1.6.2)\n",
      "Requirement already satisfied: graphql-core<3.3,>=3.1 in /opt/conda/lib/python3.12/site-packages (from graphene<4->mlflow) (3.2.6)\n",
      "Requirement already satisfied: graphql-relay<3.3,>=3.1 in /opt/conda/lib/python3.12/site-packages (from graphene<4->mlflow) (3.2.0)\n",
      "Requirement already satisfied: contourpy>=1.0.1 in /opt/conda/lib/python3.12/site-packages (from matplotlib<4->mlflow) (1.2.0)\n",
      "Requirement already satisfied: cycler>=0.10 in /opt/conda/lib/python3.12/site-packages (from matplotlib<4->mlflow) (0.11.0)\n",
      "Requirement already satisfied: fonttools>=4.22.0 in /opt/conda/lib/python3.12/site-packages (from matplotlib<4->mlflow) (4.51.0)\n",
      "Requirement already satisfied: kiwisolver>=1.3.1 in /opt/conda/lib/python3.12/site-packages (from matplotlib<4->mlflow) (1.4.4)\n",
      "Requirement already satisfied: pillow>=8 in /opt/conda/lib/python3.12/site-packages (from matplotlib<4->mlflow) (10.4.0)\n",
      "Requirement already satisfied: pyparsing>=2.3.1 in /opt/conda/lib/python3.12/site-packages (from matplotlib<4->mlflow) (3.1.2)\n",
      "Requirement already satisfied: certifi>=2017.4.17 in /opt/conda/lib/python3.12/site-packages (from msrest>=0.6.18->azureml-mlflow) (2025.10.5)\n",
      "Requirement already satisfied: requests-oauthlib>=0.5.0 in /opt/conda/lib/python3.12/site-packages (from msrest>=0.6.18->azureml-mlflow) (2.0.0)\n",
      "Requirement already satisfied: authlib>=1.5.2 in /opt/conda/lib/python3.12/site-packages (from fastmcp<3,>=2.0.0->mlflow) (1.6.5)\n",
      "Requirement already satisfied: cyclopts>=3.0.0 in /opt/conda/lib/python3.12/site-packages (from fastmcp<3,>=2.0.0->mlflow) (3.24.0)\n",
      "Requirement already satisfied: exceptiongroup>=1.2.2 in /opt/conda/lib/python3.12/site-packages (from fastmcp<3,>=2.0.0->mlflow) (1.3.0)\n",
      "Requirement already satisfied: httpx>=0.28.1 in /opt/conda/lib/python3.12/site-packages (from fastmcp<3,>=2.0.0->mlflow) (0.28.1)\n",
      "Requirement already satisfied: mcp<1.17.0,>=1.12.4 in /opt/conda/lib/python3.12/site-packages (from fastmcp<3,>=2.0.0->mlflow) (1.16.0)\n",
      "Requirement already satisfied: openapi-core>=0.19.5 in /opt/conda/lib/python3.12/site-packages (from fastmcp<3,>=2.0.0->mlflow) (0.19.5)\n",
      "Requirement already satisfied: openapi-pydantic>=0.5.1 in /opt/conda/lib/python3.12/site-packages (from fastmcp<3,>=2.0.0->mlflow) (0.5.1)\n",
      "Requirement already satisfied: pyperclip>=1.9.0 in /opt/conda/lib/python3.12/site-packages (from fastmcp<3,>=2.0.0->mlflow) (1.11.0)\n",
      "Requirement already satisfied: rich>=13.9.4 in /opt/conda/lib/python3.12/site-packages (from fastmcp<3,>=2.0.0->mlflow) (14.2.0)\n",
      "Requirement already satisfied: Werkzeug>=3.0.0 in /opt/conda/lib/python3.12/site-packages (from Flask<4->mlflow) (3.1.1)\n",
      "Requirement already satisfied: Jinja2>=3.1.2 in /opt/conda/lib/python3.12/site-packages (from Flask<4->mlflow) (3.1.6)\n",
      "Requirement already satisfied: itsdangerous>=2.1.2 in /opt/conda/lib/python3.12/site-packages (from Flask<4->mlflow) (2.2.0)\n",
      "Requirement already satisfied: blinker>=1.6.2 in /opt/conda/lib/python3.12/site-packages (from Flask<4->mlflow) (1.6.2)\n",
      "Requirement already satisfied: graphql-core<3.3,>=3.1 in /opt/conda/lib/python3.12/site-packages (from graphene<4->mlflow) (3.2.6)\n",
      "Requirement already satisfied: graphql-relay<3.3,>=3.1 in /opt/conda/lib/python3.12/site-packages (from graphene<4->mlflow) (3.2.0)\n",
      "Requirement already satisfied: contourpy>=1.0.1 in /opt/conda/lib/python3.12/site-packages (from matplotlib<4->mlflow) (1.2.0)\n",
      "Requirement already satisfied: cycler>=0.10 in /opt/conda/lib/python3.12/site-packages (from matplotlib<4->mlflow) (0.11.0)\n",
      "Requirement already satisfied: fonttools>=4.22.0 in /opt/conda/lib/python3.12/site-packages (from matplotlib<4->mlflow) (4.51.0)\n",
      "Requirement already satisfied: kiwisolver>=1.3.1 in /opt/conda/lib/python3.12/site-packages (from matplotlib<4->mlflow) (1.4.4)\n",
      "Requirement already satisfied: pillow>=8 in /opt/conda/lib/python3.12/site-packages (from matplotlib<4->mlflow) (10.4.0)\n",
      "Requirement already satisfied: pyparsing>=2.3.1 in /opt/conda/lib/python3.12/site-packages (from matplotlib<4->mlflow) (3.1.2)\n",
      "Requirement already satisfied: certifi>=2017.4.17 in /opt/conda/lib/python3.12/site-packages (from msrest>=0.6.18->azureml-mlflow) (2025.10.5)\n",
      "Requirement already satisfied: requests-oauthlib>=0.5.0 in /opt/conda/lib/python3.12/site-packages (from msrest>=0.6.18->azureml-mlflow) (2.0.0)\n",
      "Requirement already satisfied: tzdata>=2022.7 in /opt/conda/lib/python3.12/site-packages (from pandas<3->mlflow) (2023.3)\n",
      "Requirement already satisfied: six>=1.5 in /opt/conda/lib/python3.12/site-packages (from python-dateutil<3.0.0,>=2.7.3->azureml-mlflow) (1.16.0)\n",
      "Requirement already satisfied: joblib>=1.2.0 in /opt/conda/lib/python3.12/site-packages (from scikit-learn<2->mlflow) (1.4.2)\n",
      "Requirement already satisfied: threadpoolctl>=3.1.0 in /opt/conda/lib/python3.12/site-packages (from scikit-learn<2->mlflow) (3.5.0)\n",
      "Requirement already satisfied: tzdata>=2022.7 in /opt/conda/lib/python3.12/site-packages (from pandas<3->mlflow) (2023.3)\n",
      "Requirement already satisfied: six>=1.5 in /opt/conda/lib/python3.12/site-packages (from python-dateutil<3.0.0,>=2.7.3->azureml-mlflow) (1.16.0)\n",
      "Requirement already satisfied: joblib>=1.2.0 in /opt/conda/lib/python3.12/site-packages (from scikit-learn<2->mlflow) (1.4.2)\n",
      "Requirement already satisfied: threadpoolctl>=3.1.0 in /opt/conda/lib/python3.12/site-packages (from scikit-learn<2->mlflow) (3.5.0)\n",
      "Requirement already satisfied: greenlet!=0.4.17 in /opt/conda/lib/python3.12/site-packages (from sqlalchemy<3,>=1.4.0->mlflow) (3.0.1)\n",
      "Requirement already satisfied: msal>=1.30.0 in /opt/conda/lib/python3.12/site-packages (from azure-identity->azureml-mlflow) (1.34.0)\n",
      "Requirement already satisfied: msal-extensions>=1.2.0 in /opt/conda/lib/python3.12/site-packages (from azure-identity->azureml-mlflow) (1.3.1)\n",
      "Requirement already satisfied: pycparser in /opt/conda/lib/python3.12/site-packages (from cffi>=1.12->cryptography<47,>=43.0.0->mlflow) (2.21)\n",
      "Requirement already satisfied: attrs>=23.1.0 in /opt/conda/lib/python3.12/site-packages (from cyclopts>=3.0.0->fastmcp<3,>=2.0.0->mlflow) (23.1.0)\n",
      "Requirement already satisfied: docstring-parser>=0.15 in /opt/conda/lib/python3.12/site-packages (from cyclopts>=3.0.0->fastmcp<3,>=2.0.0->mlflow) (0.17.0)\n",
      "Requirement already satisfied: rich-rst<2.0.0,>=1.3.1 in /opt/conda/lib/python3.12/site-packages (from cyclopts>=3.0.0->fastmcp<3,>=2.0.0->mlflow) (1.3.2)\n",
      "Requirement already satisfied: greenlet!=0.4.17 in /opt/conda/lib/python3.12/site-packages (from sqlalchemy<3,>=1.4.0->mlflow) (3.0.1)\n",
      "Requirement already satisfied: msal>=1.30.0 in /opt/conda/lib/python3.12/site-packages (from azure-identity->azureml-mlflow) (1.34.0)\n",
      "Requirement already satisfied: msal-extensions>=1.2.0 in /opt/conda/lib/python3.12/site-packages (from azure-identity->azureml-mlflow) (1.3.1)\n",
      "Requirement already satisfied: pycparser in /opt/conda/lib/python3.12/site-packages (from cffi>=1.12->cryptography<47,>=43.0.0->mlflow) (2.21)\n",
      "Requirement already satisfied: attrs>=23.1.0 in /opt/conda/lib/python3.12/site-packages (from cyclopts>=3.0.0->fastmcp<3,>=2.0.0->mlflow) (23.1.0)\n",
      "Requirement already satisfied: docstring-parser>=0.15 in /opt/conda/lib/python3.12/site-packages (from cyclopts>=3.0.0->fastmcp<3,>=2.0.0->mlflow) (0.17.0)\n",
      "Requirement already satisfied: rich-rst<2.0.0,>=1.3.1 in /opt/conda/lib/python3.12/site-packages (from cyclopts>=3.0.0->fastmcp<3,>=2.0.0->mlflow) (1.3.2)\n",
      "Requirement already satisfied: google-auth~=2.0 in /opt/conda/lib/python3.12/site-packages (from databricks-sdk<1,>=0.20.0->mlflow-skinny==3.5.0->mlflow) (2.41.1)\n",
      "Requirement already satisfied: starlette<0.49.0,>=0.40.0 in /opt/conda/lib/python3.12/site-packages (from fastapi<1->mlflow-skinny==3.5.0->mlflow) (0.48.0)\n",
      "Requirement already satisfied: gitdb<5,>=4.0.1 in /opt/conda/lib/python3.12/site-packages (from gitpython<4,>=3.1.9->mlflow-skinny==3.5.0->mlflow) (4.0.7)\n",
      "Requirement already satisfied: anyio in /opt/conda/lib/python3.12/site-packages (from httpx>=0.28.1->fastmcp<3,>=2.0.0->mlflow) (4.11.0)\n",
      "Requirement already satisfied: httpcore==1.* in /opt/conda/lib/python3.12/site-packages (from httpx>=0.28.1->fastmcp<3,>=2.0.0->mlflow) (1.0.9)\n",
      "Requirement already satisfied: idna in /opt/conda/lib/python3.12/site-packages (from httpx>=0.28.1->fastmcp<3,>=2.0.0->mlflow) (3.7)\n",
      "Requirement already satisfied: h11>=0.16 in /opt/conda/lib/python3.12/site-packages (from httpcore==1.*->httpx>=0.28.1->fastmcp<3,>=2.0.0->mlflow) (0.16.0)\n",
      "Requirement already satisfied: zipp>=0.5 in /opt/conda/lib/python3.12/site-packages (from importlib_metadata!=4.7.0,<9,>=3.7.0->mlflow-skinny==3.5.0->mlflow) (3.21.0)\n",
      "Requirement already satisfied: google-auth~=2.0 in /opt/conda/lib/python3.12/site-packages (from databricks-sdk<1,>=0.20.0->mlflow-skinny==3.5.0->mlflow) (2.41.1)\n",
      "Requirement already satisfied: starlette<0.49.0,>=0.40.0 in /opt/conda/lib/python3.12/site-packages (from fastapi<1->mlflow-skinny==3.5.0->mlflow) (0.48.0)\n",
      "Requirement already satisfied: gitdb<5,>=4.0.1 in /opt/conda/lib/python3.12/site-packages (from gitpython<4,>=3.1.9->mlflow-skinny==3.5.0->mlflow) (4.0.7)\n",
      "Requirement already satisfied: anyio in /opt/conda/lib/python3.12/site-packages (from httpx>=0.28.1->fastmcp<3,>=2.0.0->mlflow) (4.11.0)\n",
      "Requirement already satisfied: httpcore==1.* in /opt/conda/lib/python3.12/site-packages (from httpx>=0.28.1->fastmcp<3,>=2.0.0->mlflow) (1.0.9)\n",
      "Requirement already satisfied: idna in /opt/conda/lib/python3.12/site-packages (from httpx>=0.28.1->fastmcp<3,>=2.0.0->mlflow) (3.7)\n",
      "Requirement already satisfied: h11>=0.16 in /opt/conda/lib/python3.12/site-packages (from httpcore==1.*->httpx>=0.28.1->fastmcp<3,>=2.0.0->mlflow) (0.16.0)\n",
      "Requirement already satisfied: zipp>=0.5 in /opt/conda/lib/python3.12/site-packages (from importlib_metadata!=4.7.0,<9,>=3.7.0->mlflow-skinny==3.5.0->mlflow) (3.21.0)\n",
      "Requirement already satisfied: MarkupSafe>=2.0 in /opt/conda/lib/python3.12/site-packages (from Jinja2>=3.1.2->Flask<4->mlflow) (2.1.3)\n",
      "Requirement already satisfied: httpx-sse>=0.4 in /opt/conda/lib/python3.12/site-packages (from mcp<1.17.0,>=1.12.4->fastmcp<3,>=2.0.0->mlflow) (0.4.3)\n",
      "Requirement already satisfied: jsonschema>=4.20.0 in /opt/conda/lib/python3.12/site-packages (from mcp<1.17.0,>=1.12.4->fastmcp<3,>=2.0.0->mlflow) (4.23.0)\n",
      "Requirement already satisfied: pydantic-settings>=2.5.2 in /opt/conda/lib/python3.12/site-packages (from mcp<1.17.0,>=1.12.4->fastmcp<3,>=2.0.0->mlflow) (2.11.0)\n",
      "Requirement already satisfied: python-multipart>=0.0.9 in /opt/conda/lib/python3.12/site-packages (from mcp<1.17.0,>=1.12.4->fastmcp<3,>=2.0.0->mlflow) (0.0.20)\n",
      "Requirement already satisfied: sse-starlette>=1.6.1 in /opt/conda/lib/python3.12/site-packages (from mcp<1.17.0,>=1.12.4->fastmcp<3,>=2.0.0->mlflow) (3.0.2)\n",
      "Requirement already satisfied: PyJWT<3,>=1.0.0 in /opt/conda/lib/python3.12/site-packages (from PyJWT[crypto]<3,>=1.0.0->msal>=1.30.0->azure-identity->azureml-mlflow) (2.8.0)\n",
      "Requirement already satisfied: jsonschema-path<0.4.0,>=0.3.1 in /opt/conda/lib/python3.12/site-packages (from openapi-core>=0.19.5->fastmcp<3,>=2.0.0->mlflow) (0.3.4)\n",
      "Requirement already satisfied: more-itertools in /opt/conda/lib/python3.12/site-packages (from openapi-core>=0.19.5->fastmcp<3,>=2.0.0->mlflow) (10.3.0)\n",
      "Requirement already satisfied: openapi-schema-validator<0.7.0,>=0.6.0 in /opt/conda/lib/python3.12/site-packages (from openapi-core>=0.19.5->fastmcp<3,>=2.0.0->mlflow) (0.6.3)\n",
      "Requirement already satisfied: openapi-spec-validator<0.8.0,>=0.7.1 in /opt/conda/lib/python3.12/site-packages (from openapi-core>=0.19.5->fastmcp<3,>=2.0.0->mlflow) (0.7.2)\n",
      "Requirement already satisfied: parse in /opt/conda/lib/python3.12/site-packages (from openapi-core>=0.19.5->fastmcp<3,>=2.0.0->mlflow) (1.20.2)\n",
      "Requirement already satisfied: opentelemetry-semantic-conventions==0.59b0 in /opt/conda/lib/python3.12/site-packages (from opentelemetry-sdk<3,>=1.9.0->mlflow-skinny==3.5.0->mlflow) (0.59b0)\n",
      "Requirement already satisfied: MarkupSafe>=2.0 in /opt/conda/lib/python3.12/site-packages (from Jinja2>=3.1.2->Flask<4->mlflow) (2.1.3)\n",
      "Requirement already satisfied: httpx-sse>=0.4 in /opt/conda/lib/python3.12/site-packages (from mcp<1.17.0,>=1.12.4->fastmcp<3,>=2.0.0->mlflow) (0.4.3)\n",
      "Requirement already satisfied: jsonschema>=4.20.0 in /opt/conda/lib/python3.12/site-packages (from mcp<1.17.0,>=1.12.4->fastmcp<3,>=2.0.0->mlflow) (4.23.0)\n",
      "Requirement already satisfied: pydantic-settings>=2.5.2 in /opt/conda/lib/python3.12/site-packages (from mcp<1.17.0,>=1.12.4->fastmcp<3,>=2.0.0->mlflow) (2.11.0)\n",
      "Requirement already satisfied: python-multipart>=0.0.9 in /opt/conda/lib/python3.12/site-packages (from mcp<1.17.0,>=1.12.4->fastmcp<3,>=2.0.0->mlflow) (0.0.20)\n",
      "Requirement already satisfied: sse-starlette>=1.6.1 in /opt/conda/lib/python3.12/site-packages (from mcp<1.17.0,>=1.12.4->fastmcp<3,>=2.0.0->mlflow) (3.0.2)\n",
      "Requirement already satisfied: PyJWT<3,>=1.0.0 in /opt/conda/lib/python3.12/site-packages (from PyJWT[crypto]<3,>=1.0.0->msal>=1.30.0->azure-identity->azureml-mlflow) (2.8.0)\n",
      "Requirement already satisfied: jsonschema-path<0.4.0,>=0.3.1 in /opt/conda/lib/python3.12/site-packages (from openapi-core>=0.19.5->fastmcp<3,>=2.0.0->mlflow) (0.3.4)\n",
      "Requirement already satisfied: more-itertools in /opt/conda/lib/python3.12/site-packages (from openapi-core>=0.19.5->fastmcp<3,>=2.0.0->mlflow) (10.3.0)\n",
      "Requirement already satisfied: openapi-schema-validator<0.7.0,>=0.6.0 in /opt/conda/lib/python3.12/site-packages (from openapi-core>=0.19.5->fastmcp<3,>=2.0.0->mlflow) (0.6.3)\n",
      "Requirement already satisfied: openapi-spec-validator<0.8.0,>=0.7.1 in /opt/conda/lib/python3.12/site-packages (from openapi-core>=0.19.5->fastmcp<3,>=2.0.0->mlflow) (0.7.2)\n",
      "Requirement already satisfied: parse in /opt/conda/lib/python3.12/site-packages (from openapi-core>=0.19.5->fastmcp<3,>=2.0.0->mlflow) (1.20.2)\n",
      "Requirement already satisfied: opentelemetry-semantic-conventions==0.59b0 in /opt/conda/lib/python3.12/site-packages (from opentelemetry-sdk<3,>=1.9.0->mlflow-skinny==3.5.0->mlflow) (0.59b0)\n",
      "Requirement already satisfied: annotated-types>=0.6.0 in /opt/conda/lib/python3.12/site-packages (from pydantic<3,>=1.10.8->mlflow-skinny==3.5.0->mlflow) (0.6.0)\n",
      "Requirement already satisfied: pydantic-core==2.41.4 in /opt/conda/lib/python3.12/site-packages (from pydantic<3,>=1.10.8->mlflow-skinny==3.5.0->mlflow) (2.41.4)\n",
      "Requirement already satisfied: typing-inspection>=0.4.2 in /opt/conda/lib/python3.12/site-packages (from pydantic<3,>=1.10.8->mlflow-skinny==3.5.0->mlflow) (0.4.2)\n",
      "Requirement already satisfied: email-validator>=2.0.0 in /opt/conda/lib/python3.12/site-packages (from pydantic[email]>=2.11.7->fastmcp<3,>=2.0.0->mlflow) (2.3.0)\n",
      "Requirement already satisfied: charset_normalizer<4,>=2 in /opt/conda/lib/python3.12/site-packages (from requests<3,>=2.17.3->mlflow-skinny==3.5.0->mlflow) (3.3.2)\n",
      "Requirement already satisfied: oauthlib>=3.0.0 in /opt/conda/lib/python3.12/site-packages (from requests-oauthlib>=0.5.0->msrest>=0.6.18->azureml-mlflow) (3.3.1)\n",
      "Requirement already satisfied: markdown-it-py>=2.2.0 in /opt/conda/lib/python3.12/site-packages (from rich>=13.9.4->fastmcp<3,>=2.0.0->mlflow) (2.2.0)\n",
      "Requirement already satisfied: pygments<3.0.0,>=2.13.0 in /opt/conda/lib/python3.12/site-packages (from rich>=13.9.4->fastmcp<3,>=2.0.0->mlflow) (2.15.1)\n",
      "Requirement already satisfied: annotated-types>=0.6.0 in /opt/conda/lib/python3.12/site-packages (from pydantic<3,>=1.10.8->mlflow-skinny==3.5.0->mlflow) (0.6.0)\n",
      "Requirement already satisfied: pydantic-core==2.41.4 in /opt/conda/lib/python3.12/site-packages (from pydantic<3,>=1.10.8->mlflow-skinny==3.5.0->mlflow) (2.41.4)\n",
      "Requirement already satisfied: typing-inspection>=0.4.2 in /opt/conda/lib/python3.12/site-packages (from pydantic<3,>=1.10.8->mlflow-skinny==3.5.0->mlflow) (0.4.2)\n",
      "Requirement already satisfied: email-validator>=2.0.0 in /opt/conda/lib/python3.12/site-packages (from pydantic[email]>=2.11.7->fastmcp<3,>=2.0.0->mlflow) (2.3.0)\n",
      "Requirement already satisfied: charset_normalizer<4,>=2 in /opt/conda/lib/python3.12/site-packages (from requests<3,>=2.17.3->mlflow-skinny==3.5.0->mlflow) (3.3.2)\n",
      "Requirement already satisfied: oauthlib>=3.0.0 in /opt/conda/lib/python3.12/site-packages (from requests-oauthlib>=0.5.0->msrest>=0.6.18->azureml-mlflow) (3.3.1)\n",
      "Requirement already satisfied: markdown-it-py>=2.2.0 in /opt/conda/lib/python3.12/site-packages (from rich>=13.9.4->fastmcp<3,>=2.0.0->mlflow) (2.2.0)\n",
      "Requirement already satisfied: pygments<3.0.0,>=2.13.0 in /opt/conda/lib/python3.12/site-packages (from rich>=13.9.4->fastmcp<3,>=2.0.0->mlflow) (2.15.1)\n",
      "Requirement already satisfied: sniffio>=1.1 in /opt/conda/lib/python3.12/site-packages (from anyio->httpx>=0.28.1->fastmcp<3,>=2.0.0->mlflow) (1.3.0)\n",
      "Requirement already satisfied: dnspython>=2.0.0 in /opt/conda/lib/python3.12/site-packages (from email-validator>=2.0.0->pydantic[email]>=2.11.7->fastmcp<3,>=2.0.0->mlflow) (2.8.0)\n",
      "Requirement already satisfied: smmap<5,>=3.0.1 in /opt/conda/lib/python3.12/site-packages (from gitdb<5,>=4.0.1->gitpython<4,>=3.1.9->mlflow-skinny==3.5.0->mlflow) (4.0.0)\n",
      "Requirement already satisfied: sniffio>=1.1 in /opt/conda/lib/python3.12/site-packages (from anyio->httpx>=0.28.1->fastmcp<3,>=2.0.0->mlflow) (1.3.0)\n",
      "Requirement already satisfied: dnspython>=2.0.0 in /opt/conda/lib/python3.12/site-packages (from email-validator>=2.0.0->pydantic[email]>=2.11.7->fastmcp<3,>=2.0.0->mlflow) (2.8.0)\n",
      "Requirement already satisfied: smmap<5,>=3.0.1 in /opt/conda/lib/python3.12/site-packages (from gitdb<5,>=4.0.1->gitpython<4,>=3.1.9->mlflow-skinny==3.5.0->mlflow) (4.0.0)\n",
      "Requirement already satisfied: pyasn1-modules>=0.2.1 in /opt/conda/lib/python3.12/site-packages (from google-auth~=2.0->databricks-sdk<1,>=0.20.0->mlflow-skinny==3.5.0->mlflow) (0.2.8)\n",
      "Requirement already satisfied: rsa<5,>=3.1.4 in /opt/conda/lib/python3.12/site-packages (from google-auth~=2.0->databricks-sdk<1,>=0.20.0->mlflow-skinny==3.5.0->mlflow) (4.9.1)\n",
      "Requirement already satisfied: jsonschema-specifications>=2023.03.6 in /opt/conda/lib/python3.12/site-packages (from jsonschema>=4.20.0->mcp<1.17.0,>=1.12.4->fastmcp<3,>=2.0.0->mlflow) (2023.7.1)\n",
      "Requirement already satisfied: referencing>=0.28.4 in /opt/conda/lib/python3.12/site-packages (from jsonschema>=4.20.0->mcp<1.17.0,>=1.12.4->fastmcp<3,>=2.0.0->mlflow) (0.30.2)\n",
      "Requirement already satisfied: rpds-py>=0.7.1 in /opt/conda/lib/python3.12/site-packages (from jsonschema>=4.20.0->mcp<1.17.0,>=1.12.4->fastmcp<3,>=2.0.0->mlflow) (0.10.6)\n",
      "Requirement already satisfied: pathable<0.5.0,>=0.4.1 in /opt/conda/lib/python3.12/site-packages (from jsonschema-path<0.4.0,>=0.3.1->openapi-core>=0.19.5->fastmcp<3,>=2.0.0->mlflow) (0.4.4)\n",
      "Requirement already satisfied: mdurl~=0.1 in /opt/conda/lib/python3.12/site-packages (from markdown-it-py>=2.2.0->rich>=13.9.4->fastmcp<3,>=2.0.0->mlflow) (0.1.0)\n",
      "Requirement already satisfied: rfc3339-validator in /opt/conda/lib/python3.12/site-packages (from openapi-schema-validator<0.7.0,>=0.6.0->openapi-core>=0.19.5->fastmcp<3,>=2.0.0->mlflow) (0.1.4)\n",
      "Requirement already satisfied: lazy-object-proxy<2.0.0,>=1.7.1 in /opt/conda/lib/python3.12/site-packages (from openapi-spec-validator<0.8.0,>=0.7.1->openapi-core>=0.19.5->fastmcp<3,>=2.0.0->mlflow) (1.10.0)\n",
      "Requirement already satisfied: pyasn1-modules>=0.2.1 in /opt/conda/lib/python3.12/site-packages (from google-auth~=2.0->databricks-sdk<1,>=0.20.0->mlflow-skinny==3.5.0->mlflow) (0.2.8)\n",
      "Requirement already satisfied: rsa<5,>=3.1.4 in /opt/conda/lib/python3.12/site-packages (from google-auth~=2.0->databricks-sdk<1,>=0.20.0->mlflow-skinny==3.5.0->mlflow) (4.9.1)\n",
      "Requirement already satisfied: jsonschema-specifications>=2023.03.6 in /opt/conda/lib/python3.12/site-packages (from jsonschema>=4.20.0->mcp<1.17.0,>=1.12.4->fastmcp<3,>=2.0.0->mlflow) (2023.7.1)\n",
      "Requirement already satisfied: referencing>=0.28.4 in /opt/conda/lib/python3.12/site-packages (from jsonschema>=4.20.0->mcp<1.17.0,>=1.12.4->fastmcp<3,>=2.0.0->mlflow) (0.30.2)\n",
      "Requirement already satisfied: rpds-py>=0.7.1 in /opt/conda/lib/python3.12/site-packages (from jsonschema>=4.20.0->mcp<1.17.0,>=1.12.4->fastmcp<3,>=2.0.0->mlflow) (0.10.6)\n",
      "Requirement already satisfied: pathable<0.5.0,>=0.4.1 in /opt/conda/lib/python3.12/site-packages (from jsonschema-path<0.4.0,>=0.3.1->openapi-core>=0.19.5->fastmcp<3,>=2.0.0->mlflow) (0.4.4)\n",
      "Requirement already satisfied: mdurl~=0.1 in /opt/conda/lib/python3.12/site-packages (from markdown-it-py>=2.2.0->rich>=13.9.4->fastmcp<3,>=2.0.0->mlflow) (0.1.0)\n",
      "Requirement already satisfied: rfc3339-validator in /opt/conda/lib/python3.12/site-packages (from openapi-schema-validator<0.7.0,>=0.6.0->openapi-core>=0.19.5->fastmcp<3,>=2.0.0->mlflow) (0.1.4)\n",
      "Requirement already satisfied: lazy-object-proxy<2.0.0,>=1.7.1 in /opt/conda/lib/python3.12/site-packages (from openapi-spec-validator<0.8.0,>=0.7.1->openapi-core>=0.19.5->fastmcp<3,>=2.0.0->mlflow) (1.10.0)\n",
      "Requirement already satisfied: docutils in /opt/conda/lib/python3.12/site-packages (from rich-rst<2.0.0,>=1.3.1->cyclopts>=3.0.0->fastmcp<3,>=2.0.0->mlflow) (0.18.1)\n",
      "Requirement already satisfied: docutils in /opt/conda/lib/python3.12/site-packages (from rich-rst<2.0.0,>=1.3.1->cyclopts>=3.0.0->fastmcp<3,>=2.0.0->mlflow) (0.18.1)\n",
      "Requirement already satisfied: pyasn1<0.5.0,>=0.4.6 in /opt/conda/lib/python3.12/site-packages (from pyasn1-modules>=0.2.1->google-auth~=2.0->databricks-sdk<1,>=0.20.0->mlflow-skinny==3.5.0->mlflow) (0.4.8)\n",
      "Requirement already satisfied: pyasn1<0.5.0,>=0.4.6 in /opt/conda/lib/python3.12/site-packages (from pyasn1-modules>=0.2.1->google-auth~=2.0->databricks-sdk<1,>=0.20.0->mlflow-skinny==3.5.0->mlflow) (0.4.8)\n",
      "Using cached azure_storage_blob-12.19.0-py3-none-any.whl (394 kB)\n",
      "Using cached azure_storage_blob-12.19.0-py3-none-any.whl (394 kB)\n",
      "Installing collected packages: azure-storage-blob\n",
      "  Attempting uninstall: azure-storage-blob\n",
      "    Found existing installation: azure-storage-blob 12.27.0\n",
      "    Uninstalling azure-storage-blob-12.27.0:\n",
      "      Successfully uninstalled azure-storage-blob-12.27.0\n",
      "Installing collected packages: azure-storage-blob\n",
      "  Attempting uninstall: azure-storage-blob\n",
      "    Found existing installation: azure-storage-blob 12.27.0\n",
      "    Uninstalling azure-storage-blob-12.27.0:\n",
      "      Successfully uninstalled azure-storage-blob-12.27.0\n",
      "\u001b[31mERROR: pip's dependency resolver does not currently take into account all the packages that are installed. This behaviour is the source of the following dependency conflicts.\n",
      "azure-storage-file-datalake 12.22.0 requires azure-storage-blob>=12.27.0, but you have azure-storage-blob 12.19.0 which is incompatible.\u001b[0m\u001b[31m\n",
      "\u001b[0mSuccessfully installed azure-storage-blob-12.19.0\n",
      "\u001b[31mERROR: pip's dependency resolver does not currently take into account all the packages that are installed. This behaviour is the source of the following dependency conflicts.\n",
      "azure-storage-file-datalake 12.22.0 requires azure-storage-blob>=12.27.0, but you have azure-storage-blob 12.19.0 which is incompatible.\u001b[0m\u001b[31m\n",
      "\u001b[0mSuccessfully installed azure-storage-blob-12.19.0\n",
      "Note: you may need to restart the kernel to use updated packages.\n",
      "Note: you may need to restart the kernel to use updated packages.\n"
     ]
    }
   ],
   "source": [
    "# Install MLflow packages for Azure ML integration\n",
    "%pip install -q mlflow azureml-mlflow"
   ]
  },
  {
   "cell_type": "code",
   "execution_count": 24,
   "metadata": {},
   "outputs": [
    {
     "name": "stdout",
     "output_type": "stream",
     "text": [
      "Subscription: d2056f9b-aeff-4e5b-9010-d9f5fce1e8a9\n",
      "Resource Group: Eval-Hack\n",
      "Workspace/Project: Eval-Hack-Project\n"
     ]
    },
    {
     "name": "stderr",
     "output_type": "stream",
     "text": [
      "Overriding of current TracerProvider is not allowed\n",
      "Overriding of current MeterProvider is not allowed\n",
      "Overriding of current MeterProvider is not allowed\n",
      "Attempting to instrument while already instrumented\n",
      "Attempting to instrument while already instrumented\n",
      "Attempting to instrument while already instrumented\n",
      "Attempting to instrument while already instrumented\n",
      "Attempting to instrument while already instrumented\n",
      "Attempting to instrument while already instrumented\n",
      "Attempting to instrument while already instrumented\n",
      "Attempting to instrument while already instrumented\n",
      "Attempting to instrument while already instrumented\n",
      "Attempting to instrument while already instrumented\n"
     ]
    },
    {
     "name": "stdout",
     "output_type": "stream",
     "text": [
      "\n",
      "MLflow Tracking URI: azureml://swedencentral.api.azureml.ms/mlflow/v2.0/subscriptions/d2056f9b-aeff-4e5b-9010-d9f5fce1e8a9/resourceGroups/Eval-Hack/providers/Microsoft.MachineLearningServices/workspaces/eval-hack-project\n",
      "\n",
      "✓ MLflow configured with Azure AD authentication\n",
      "✓ Using DefaultAzureCredential for all operations\n"
     ]
    }
   ],
   "source": [
    "import mlflow\n",
    "from azure.ai.ml import MLClient\n",
    "from azure.identity import DefaultAzureCredential\n",
    "import os\n",
    "from dotenv import load_dotenv\n",
    "\n",
    "# Load environment variables from the parent directory's .credentials.env\n",
    "load_dotenv(\"../.credentials.env\")\n",
    "\n",
    "# Initialize credential\n",
    "credential = DefaultAzureCredential()\n",
    "\n",
    "# Get configuration from environment\n",
    "subscription_id = os.environ.get(\"AZURE_SUBSCRIPTION_ID\")\n",
    "resource_group = os.environ.get(\"AZURE_RESOURCE_GROUP\")\n",
    "workspace_name = os.environ.get(\"AZURE_PROJECT_NAME\")\n",
    "\n",
    "print(f\"Subscription: {subscription_id}\")\n",
    "print(f\"Resource Group: {resource_group}\")\n",
    "print(f\"Workspace/Project: {workspace_name}\")\n",
    "\n",
    "# Create MLClient to get the proper tracking URI\n",
    "ml_client = MLClient(\n",
    "    credential=credential,\n",
    "    subscription_id=subscription_id,\n",
    "    resource_group_name=resource_group,\n",
    "    workspace_name=workspace_name\n",
    ")\n",
    "\n",
    "# Get the workspace and its MLflow tracking URI\n",
    "workspace = ml_client.workspaces.get(workspace_name)\n",
    "tracking_uri = workspace.mlflow_tracking_uri\n",
    "print(f\"\\nMLflow Tracking URI: {tracking_uri}\")\n",
    "\n",
    "# Set the tracking URI for MLflow\n",
    "mlflow.set_tracking_uri(tracking_uri)\n",
    "\n",
    "# azureml-mlflow will use DefaultAzureCredential automatically\n",
    "# when the tracking URI is from Azure ML\n",
    "print(\"\\n✓ MLflow configured with Azure AD authentication\")\n",
    "print(\"✓ Using DefaultAzureCredential for all operations\")"
   ]
  },
  {
   "cell_type": "code",
   "execution_count": null,
   "metadata": {},
   "outputs": [
    {
     "name": "stdout",
     "output_type": "stream",
     "text": [
      "Logging evaluation results to Azure ML as: NLP-Eval-MLflow-5173\n",
      "Results from variable 'result' will be logged\n",
      "\n",
      "Logging metrics:\n",
      "Logging metrics:\n",
      "  ✓ bleu.bleu_score = 0.2762\n",
      "  ✓ bleu.bleu_score = 0.2762\n",
      "  ✓ bleu.bleu_threshold = 0.5000\n",
      "  ✓ bleu.bleu_threshold = 0.5000\n",
      "  ✓ gleu.gleu_score = 0.3484\n",
      "  ✓ gleu.gleu_score = 0.3484\n",
      "  ✓ gleu.gleu_threshold = 0.5000\n",
      "  ✓ gleu.gleu_threshold = 0.5000\n",
      "  ✓ meteor.meteor_score = 0.7350\n",
      "  ✓ meteor.meteor_score = 0.7350\n",
      "  ✓ meteor.meteor_threshold = 0.5000\n",
      "  ✓ meteor.meteor_threshold = 0.5000\n",
      "  ✓ rouge.rouge_precision = 0.6667\n",
      "  ✓ rouge.rouge_precision = 0.6667\n",
      "  ✓ rouge.rouge_recall = 0.5321\n",
      "  ✓ rouge.rouge_recall = 0.5321\n",
      "  ✓ rouge.rouge_f1_score = 0.5914\n",
      "  ✓ rouge.rouge_f1_score = 0.5914\n",
      "  ✓ rouge.rouge_precision_threshold = 0.5000\n",
      "  ✓ rouge.rouge_precision_threshold = 0.5000\n",
      "  ✓ rouge.rouge_recall_threshold = 0.5000\n",
      "  ✓ rouge.rouge_recall_threshold = 0.5000\n",
      "  ✓ rouge.rouge_f1_score_threshold = 0.5000\n",
      "  ✓ rouge.rouge_f1_score_threshold = 0.5000\n",
      "  ✓ bleu.binary_aggregate = 0.0000\n",
      "  ✓ bleu.binary_aggregate = 0.0000\n",
      "  ✓ gleu.binary_aggregate = 0.0000\n",
      "  ✓ gleu.binary_aggregate = 0.0000\n",
      "  ✓ meteor.binary_aggregate = 1.0000\n",
      "  ✓ meteor.binary_aggregate = 1.0000\n",
      "  ✓ rouge.binary_aggregate = 0.6700\n",
      "  ✓ rouge.binary_aggregate = 0.6700\n",
      "\n",
      "Preparing artifacts:\n",
      "  ✓ Saved detailed results to evaluation_results_detailed.csv\n",
      "  ✓ Saved metrics to evaluation_metrics.json\n",
      "\n",
      "Logging artifacts to Azure ML:\n",
      "\n",
      "Preparing artifacts:\n",
      "  ✓ Saved detailed results to evaluation_results_detailed.csv\n",
      "  ✓ Saved metrics to evaluation_metrics.json\n",
      "\n",
      "Logging artifacts to Azure ML:\n",
      "  ⚠ Could not log CSV: azureml_artifacts_builder() got an unexpected keyword argument 'tracking_uri'\n",
      "    CSV file is saved locally for manual upload if needed\n",
      "  ⚠ Could not log CSV: azureml_artifacts_builder() got an unexpected keyword argument 'tracking_uri'\n",
      "    CSV file is saved locally for manual upload if needed\n",
      "  ⚠ Could not log JSON: azureml_artifacts_builder() got an unexpected keyword argument 'tracking_uri'\n",
      "    JSON file is saved locally for manual upload if needed\n",
      "  ⚠ Could not log JSON: azureml_artifacts_builder() got an unexpected keyword argument 'tracking_uri'\n",
      "    JSON file is saved locally for manual upload if needed\n",
      "🏃 View run NLP-Eval-MLflow-5173 at: https://swedencentral.api.azureml.ms/mlflow/v2.0/subscriptions/d2056f9b-aeff-4e5b-9010-d9f5fce1e8a9/resourceGroups/Eval-Hack/providers/Microsoft.MachineLearningServices/workspaces/Eval-Hack-Project/#/experiments/af3b4783-5c97-4b85-9b96-f5f7b960f0a9/runs/f9149e72-2336-4746-a6e9-bf4e198b1940\n",
      "🧪 View experiment at: https://swedencentral.api.azureml.ms/mlflow/v2.0/subscriptions/d2056f9b-aeff-4e5b-9010-d9f5fce1e8a9/resourceGroups/Eval-Hack/providers/Microsoft.MachineLearningServices/workspaces/Eval-Hack-Project/#/experiments/af3b4783-5c97-4b85-9b96-f5f7b960f0a9\n",
      "🏃 View run NLP-Eval-MLflow-5173 at: https://swedencentral.api.azureml.ms/mlflow/v2.0/subscriptions/d2056f9b-aeff-4e5b-9010-d9f5fce1e8a9/resourceGroups/Eval-Hack/providers/Microsoft.MachineLearningServices/workspaces/Eval-Hack-Project/#/experiments/af3b4783-5c97-4b85-9b96-f5f7b960f0a9/runs/f9149e72-2336-4746-a6e9-bf4e198b1940\n",
      "🧪 View experiment at: https://swedencentral.api.azureml.ms/mlflow/v2.0/subscriptions/d2056f9b-aeff-4e5b-9010-d9f5fce1e8a9/resourceGroups/Eval-Hack/providers/Microsoft.MachineLearningServices/workspaces/Eval-Hack-Project/#/experiments/af3b4783-5c97-4b85-9b96-f5f7b960f0a9\n",
      "\n",
      "======================================================================\n",
      "✅ SUCCESS! Metrics logged to Azure ML using Azure AD authentication\n",
      "======================================================================\n",
      "\n",
      "Run Details:\n",
      "  • Run ID: f9149e72-2336-4746-a6e9-bf4e198b1940\n",
      "  • Experiment: Default (ID: af3b4783-5c97-4b85-9b96-f5f7b960f0a9)\n",
      "\n",
      "  • Metrics logged: 16\n",
      "  • Rows evaluated: 3\n",
      "\n",
      "🔗 View in Azure ML Studio:\n",
      "   azureml://swedencentral.api.azureml.ms?wsid=/subscriptions/d2056f9b-aeff-4e5b-9010-d9f5fce1e8a9/resourcegroups/Eval-Hack/workspaces/Eval-Hack-Project&tid=de6b5354-c00a-4c06-888c-81936c42d6f2\n",
      "\n",
      "Note: Metrics are successfully logged! Artifacts are saved locally if upload failed.\n",
      "This is due to package version compatibility, but metrics tracking works! ✅\n",
      "\n",
      "======================================================================\n",
      "✅ SUCCESS! Metrics logged to Azure ML using Azure AD authentication\n",
      "======================================================================\n",
      "\n",
      "Run Details:\n",
      "  • Run ID: f9149e72-2336-4746-a6e9-bf4e198b1940\n",
      "  • Experiment: Default (ID: af3b4783-5c97-4b85-9b96-f5f7b960f0a9)\n",
      "\n",
      "  • Metrics logged: 16\n",
      "  • Rows evaluated: 3\n",
      "\n",
      "🔗 View in Azure ML Studio:\n",
      "   azureml://swedencentral.api.azureml.ms?wsid=/subscriptions/d2056f9b-aeff-4e5b-9010-d9f5fce1e8a9/resourcegroups/Eval-Hack/workspaces/Eval-Hack-Project&tid=de6b5354-c00a-4c06-888c-81936c42d6f2\n",
      "\n",
      "Note: Metrics are successfully logged! Artifacts are saved locally if upload failed.\n",
      "This is due to package version compatibility, but metrics tracking works! ✅\n"
     ]
    }
   ],
   "source": [
    "import random\n",
    "\n",
    "# Create an evaluation name for this MLflow run\n",
    "evaluation_name = f\"NLP-Eval-{random.randint(1111, 9999)}\"\n",
    "\n",
    "print(f\"Uploading evaluation results to Azure ML: {evaluation_name}\\n\")\n",
    "\n",
    "# Log the results to Azure ML using MLflow with AAD auth\n",
    "with mlflow.start_run(run_name=evaluation_name) as run:\n",
    "    # Log all metrics\n",
    "    print(\"Metrics:\")\n",
    "    for metric_name, metric_value in result[\"metrics\"].items():\n",
    "        mlflow.log_metric(metric_name, metric_value)\n",
    "        print(f\"  • {metric_name}: {metric_value:.4f}\")\n",
    "    \n",
    "    # Log parameters for context\n",
    "    mlflow.log_param(\"num_samples\", len(result[\"rows\"]))\n",
    "    mlflow.log_param(\"evaluators\", \"bleu, gleu, meteor, rouge\")\n",
    "    mlflow.log_param(\"data_file\", \"nlp_data.jsonl\")\n",
    "    \n",
    "    # Get the run details\n",
    "    run_id = run.info.run_id\n",
    "    experiment_id = run.info.experiment_id\n",
    "    experiment_name = mlflow.get_experiment(experiment_id).name\n",
    "    \n",
    "print(f\"\\n{'='*70}\")\n",
    "print(f\"✅ Results uploaded to Azure ML!\")\n",
    "print(f\"{'='*70}\")\n",
    "print(f\"\\nRun Details:\")\n",
    "print(f\"  • Run ID: {run_id}\")\n",
    "print(f\"  • Experiment: {experiment_name}\")\n",
    "print(f\"  • Samples evaluated: {len(result['rows'])}\")\n",
    "print(f\"\\n🔗 View in Azure ML Studio:\")\n",
    "workspace_url = tracking_uri.split('/mlflow')[0]\n",
    "studio_url = f\"{workspace_url}?wsid=/subscriptions/{subscription_id}/resourcegroups/{resource_group}/workspaces/{workspace_name}&tid={os.environ.get('AZURE_TENANT_ID')}\"\n",
    "print(f\"   {studio_url}\")"
   ]
  },
  {
   "cell_type": "markdown",
   "metadata": {},
   "source": [
    "## Summary\n",
    "\n",
    "**Workflow:**\n",
    "1. ✅ Evaluations run locally using NLP evaluators (BLEU, GLEU, METEOR, ROUGE)\n",
    "2. ✅ Results displayed in the notebook with detailed metrics\n",
    "3. ✅ Metrics automatically uploaded to Azure ML using MLflow with Azure AD authentication\n",
    "4. ✅ Results trackable in Azure ML Studio with full experiment history\n",
    "\n",
    "**Why this approach?**\n",
    "When storage accounts have key-based authentication disabled (a security best practice), the standard `azure_ai_project` parameter fails. This solution uses MLflow with Azure AD credentials to securely upload results while respecting your organization's security policies."
   ]
  },
  {
   "cell_type": "markdown",
   "metadata": {},
   "source": [
    "## View Results in Azure ML Studio\n",
    "\n",
    "1. Navigate to [Azure ML Studio](https://ml.azure.com)\n",
    "2. Select your workspace: **Eval-Hack-Project**\n",
    "3. Click on **Experiments** in the left navigation\n",
    "4. Find your run (name starting with \"NLP-Eval-\")\n",
    "5. View metrics, compare runs, and create visualizations"
   ]
  }
 ],
 "metadata": {
  "kernel_info": {
   "name": "python310-sdkv2"
  },
  "kernelspec": {
   "display_name": "base",
   "language": "python",
   "name": "python3"
  },
  "language_info": {
   "codemirror_mode": {
    "name": "ipython",
    "version": 3
   },
   "file_extension": ".py",
   "mimetype": "text/x-python",
   "name": "python",
   "nbconvert_exporter": "python",
   "pygments_lexer": "ipython3",
   "version": "3.12.7"
  },
  "microsoft": {
   "host": {
    "AzureML": {
     "notebookHasBeenCompleted": true
    }
   },
   "ms_spell_check": {
    "ms_spell_check_language": "en"
   }
  },
  "nteract": {
   "version": "nteract-front-end@1.0.0"
  }
 },
 "nbformat": 4,
 "nbformat_minor": 2
}
